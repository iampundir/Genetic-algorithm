{
  "nbformat": 4,
  "nbformat_minor": 0,
  "metadata": {
    "kernelspec": {
      "display_name": "Python 3",
      "language": "python",
      "name": "python3"
    },
    "language_info": {
      "codemirror_mode": {
        "name": "ipython",
        "version": 3
      },
      "file_extension": ".py",
      "mimetype": "text/x-python",
      "name": "python",
      "nbconvert_exporter": "python",
      "pygments_lexer": "ipython3",
      "version": "3.6.8"
    },
    "colab": {
      "name": "Shubham_pundir_Simple_Genetic_Algorithm.ipynb",
      "provenance": [],
      "include_colab_link": true
    }
  },
  "cells": [
    {
      "cell_type": "markdown",
      "metadata": {
        "id": "view-in-github",
        "colab_type": "text"
      },
      "source": [
        "<a href=\"https://colab.research.google.com/github/iampundir/Genetic-algorithm/blob/master/Shubham_pundir_Simple_Genetic_Algorithm.ipynb\" target=\"_parent\"><img src=\"https://colab.research.google.com/assets/colab-badge.svg\" alt=\"Open In Colab\"/></a>"
      ]
    },
    {
      "cell_type": "markdown",
      "metadata": {
        "id": "z27v9HMoXfSD",
        "colab_type": "text"
      },
      "source": [
        "# Finding max probability of Normal Distribution using GA\n",
        "\n",
        "Equation of a normal distribution is $$p(x) = \\frac {1}{\\sqrt{2 \\pi \\sigma^2}}exp \\left [- \\frac{||x-\\mu ||^2}{2\\sigma^2} \\right ]$$ which attains maximum value at the mean $\\mu$. \n",
        "\n",
        "<img src=\"https://www.intmath.com/counting-probability/img/snorm2.gif\"/> \n",
        "\n",
        "In this example, we would use Genetic Algorithm to find the value of $x$ for which the function value (i.e. the probablity) is maximum. For this purpose, $\\mu = 100$ and $\\sigma = 5$ are considered"
      ]
    },
    {
      "cell_type": "code",
      "metadata": {
        "id": "agK0bTxkXjzz",
        "colab_type": "code",
        "colab": {}
      },
      "source": [
        "import numpy as np"
      ],
      "execution_count": null,
      "outputs": []
    },
    {
      "cell_type": "code",
      "metadata": {
        "id": "hLoEJ01bXfSE",
        "colab_type": "code",
        "colab": {}
      },
      "source": [
        "# Define the value of function output. Here mu = 100 and sigma = 5\n",
        "\n",
        "def f(x):\n",
        "    return (1/np.sqrt(2*np.pi*25))*np.exp(-((x-100)**2)/(2*25))"
      ],
      "execution_count": null,
      "outputs": []
    },
    {
      "cell_type": "code",
      "metadata": {
        "id": "t3yaf_VDXfSI",
        "colab_type": "code",
        "colab": {
          "base_uri": "https://localhost:8080/",
          "height": 187
        },
        "outputId": "b006306d-8e0e-49de-8dca-117a795ea6cc"
      },
      "source": [
        "# We need initial population of chromosomes. Let us create 10 such chromosomes. This is the initialization step\n",
        "# Each chromosome is 5 bits long and each one corresponds to some integer value\n",
        "# np.random.seed(123) # Just to maintain consistency in output of randome number generation\n",
        "population = np.array(np.random.binomial(1,0.3,size=(10,10)))\n",
        "population"
      ],
      "execution_count": null,
      "outputs": [
        {
          "output_type": "execute_result",
          "data": {
            "text/plain": [
              "array([[0, 1, 0, 0, 0, 0, 1, 1, 0, 0],\n",
              "       [0, 0, 0, 1, 0, 1, 1, 0, 0, 0],\n",
              "       [1, 1, 1, 1, 1, 1, 1, 0, 1, 1],\n",
              "       [0, 0, 0, 1, 0, 0, 0, 1, 1, 0],\n",
              "       [0, 0, 0, 0, 0, 0, 0, 0, 0, 1],\n",
              "       [1, 0, 0, 0, 1, 0, 0, 1, 1, 0],\n",
              "       [0, 1, 0, 0, 0, 0, 0, 0, 0, 1],\n",
              "       [0, 0, 0, 0, 0, 0, 1, 1, 0, 0],\n",
              "       [1, 0, 0, 0, 0, 0, 1, 0, 1, 0],\n",
              "       [0, 1, 0, 0, 0, 0, 0, 0, 0, 0]])"
            ]
          },
          "metadata": {
            "tags": []
          },
          "execution_count": 19
        }
      ]
    },
    {
      "cell_type": "code",
      "metadata": {
        "id": "ILegJetnXfSM",
        "colab_type": "code",
        "colab": {}
      },
      "source": [
        "# Convert bit sequence to integer\n",
        "# If the chromosomes were created as strings (e.g. '10110'), inbuilt int() function could be used conveniently\n",
        "# Try that method on your own\n",
        "\n",
        "def bit_to_int(bit_list):\n",
        "    n = len(bit_list)\n",
        "#     print(n)\n",
        "    val = 0\n",
        "    for i in range(n):\n",
        "        val += bit_list[i]*2**(n-i-1)\n",
        "#         print(val)\n",
        "    return val"
      ],
      "execution_count": null,
      "outputs": []
    },
    {
      "cell_type": "code",
      "metadata": {
        "id": "1Ue9CirTXfSP",
        "colab_type": "code",
        "colab": {
          "base_uri": "https://localhost:8080/",
          "height": 34
        },
        "outputId": "d3d28da6-be3c-4a94-e1a0-b760e5f218cd"
      },
      "source": [
        "bit_to_int(population[0,:])"
      ],
      "execution_count": null,
      "outputs": [
        {
          "output_type": "execute_result",
          "data": {
            "text/plain": [
              "268"
            ]
          },
          "metadata": {
            "tags": []
          },
          "execution_count": 21
        }
      ]
    },
    {
      "cell_type": "code",
      "metadata": {
        "id": "rJPSk7owXfSS",
        "colab_type": "code",
        "colab": {
          "base_uri": "https://localhost:8080/",
          "height": 68
        },
        "outputId": "57a70ba9-f47b-4b2a-c8f0-a8d3bf2706f8"
      },
      "source": [
        "# The next task is to calculate the function value for all the chromosomes\n",
        "\n",
        "F = [f(bit_to_int(y)) for y in population]\n",
        "\n",
        "# Afterward, convert the function values to probabilities\n",
        "\n",
        "F_p = F/sum(F)\n",
        "F_p"
      ],
      "execution_count": null,
      "outputs": [
        {
          "output_type": "execute_result",
          "data": {
            "text/plain": [
              "array([1.25955996e-244, 9.99999729e-001, 0.00000000e+000, 2.71310946e-007,\n",
              "       1.31936102e-084, 0.00000000e+000, 1.41995408e-213, 9.71043382e-067,\n",
              "       0.00000000e+000, 7.42946871e-211])"
            ]
          },
          "metadata": {
            "tags": []
          },
          "execution_count": 22
        }
      ]
    },
    {
      "cell_type": "code",
      "metadata": {
        "id": "_wTkvdluXfSV",
        "colab_type": "code",
        "colab": {
          "base_uri": "https://localhost:8080/",
          "height": 34
        },
        "outputId": "ca254c56-f2e8-41d9-8281-0bbd1183bfc5"
      },
      "source": [
        "# Choose two chromosomes randomly based on the probability distribution\n",
        "index = np.random.choice(range(len(population)), size=2, p=F_p)\n",
        "index"
      ],
      "execution_count": null,
      "outputs": [
        {
          "output_type": "execute_result",
          "data": {
            "text/plain": [
              "array([1, 1])"
            ]
          },
          "metadata": {
            "tags": []
          },
          "execution_count": 23
        }
      ]
    },
    {
      "cell_type": "code",
      "metadata": {
        "id": "G_RcMGFFXfSY",
        "colab_type": "code",
        "colab": {
          "base_uri": "https://localhost:8080/",
          "height": 68
        },
        "outputId": "1226179c-a318-4c54-e258-5babbccae3ee"
      },
      "source": [
        "# Perform crossover with randomly chosen crossover point with some crossover probability\n",
        "\n",
        "pc = 0.75 # Crossover probability\n",
        "\n",
        "#Crossover point should be lying between the first and the last bit\n",
        "index_crossover = np.random.choice(range(1,population.shape[1]-1), size=1)[0]\n",
        "print(index_crossover)\n",
        "\n",
        "# Create 2 new chomosomes using crossover\n",
        "if(np.random.uniform(size=1)[0]<pc):\n",
        "    ch_new_1 = np.concatenate([population[index[0],:index_crossover],population[index[1],index_crossover:]])\n",
        "    ch_new_2 = np.concatenate([population[index[1],:index_crossover],population[index[0],index_crossover:]])\n",
        "else:\n",
        "    ch_new_1 = population[index[0],:]\n",
        "    ch_new_2 = population[index[1],:]\n",
        "\n",
        "print(ch_new_1)\n",
        "print(ch_new_2)"
      ],
      "execution_count": null,
      "outputs": [
        {
          "output_type": "stream",
          "text": [
            "8\n",
            "[0 0 0 1 0 1 1 0 0 0]\n",
            "[0 0 0 1 0 1 1 0 0 0]\n"
          ],
          "name": "stdout"
        }
      ]
    },
    {
      "cell_type": "code",
      "metadata": {
        "id": "TnuNRgcFXfSc",
        "colab_type": "code",
        "colab": {
          "base_uri": "https://localhost:8080/",
          "height": 51
        },
        "outputId": "86ae19ce-b50c-44ce-9e66-fe18fdf61e56"
      },
      "source": [
        "# Apply mutation on those two newly created chromosomes at each bit with some mutation prpbability\n",
        "pm = 0.005\n",
        "for i in range(len(ch_new_1)):\n",
        "    if (np.random.uniform(size=1)[0]<pm):\n",
        "        ch_new_1[i] = np.where(ch_new_1[i]==1,0,1)\n",
        "\n",
        "for i in range(len(ch_new_2)):\n",
        "    if (np.random.uniform(size=1)[0]<pm):\n",
        "        ch_new_2[i] = np.where(ch_new_2[i]==1,0,1)\n",
        "        \n",
        "print(ch_new_1)\n",
        "print(ch_new_2)"
      ],
      "execution_count": null,
      "outputs": [
        {
          "output_type": "stream",
          "text": [
            "[0 0 0 1 0 1 1 0 0 1]\n",
            "[0 0 0 1 0 1 1 0 0 1]\n"
          ],
          "name": "stdout"
        }
      ]
    },
    {
      "cell_type": "code",
      "metadata": {
        "id": "1z3bKvodXfSf",
        "colab_type": "code",
        "colab": {}
      },
      "source": [
        "# Two new chromosomes are available. We need 8 more chromosomes. \n",
        "# Hence the above process is to be repeated 4 more times\n",
        "\n",
        "# We can put everything in a loop inside a function\n",
        "def simple_ga_generation(pop, func, maximize= True, pc = 0.75, pm = 0.005, eps=1e-5):\n",
        "    pc = pc\n",
        "    pm = pm\n",
        "    \n",
        "    population = pop\n",
        "    \n",
        "    if maximize == maximize:\n",
        "        f = func\n",
        "    else:\n",
        "        f = 1/(func + eps)\n",
        "\n",
        "    if population.shape[0] % 2 ==0:\n",
        "        n_iter = int(population.shape[0]/2)\n",
        "    else:\n",
        "        n_iter = population.shape[0]//2 + 1\n",
        "#     print (n_iter)\n",
        "\n",
        "    pop_old = population.copy()\n",
        "    pop_new = np.zeros(shape=population.shape)\n",
        "\n",
        "    for iteration in range(n_iter):\n",
        "        F = [f(bit_to_int(y)) for y in pop_old]\n",
        "        F_p = F/sum(F)\n",
        "    \n",
        "        index = np.random.choice(range(len(pop_old)), size=2, p=F_p)\n",
        "    \n",
        "        index_crossover = np.random.choice(range(1,pop_old.shape[1]-1), size=1)[0]\n",
        "    \n",
        "        if(np.random.uniform(size=1)[0]<pc):\n",
        "            ch_new_1 = np.concatenate([pop_old[index[0],:index_crossover],pop_old[index[1],index_crossover:]])\n",
        "            ch_new_2 = np.concatenate([pop_old[index[1],:index_crossover],pop_old[index[0],index_crossover:]])\n",
        "        else:\n",
        "            ch_new_1 = pop_old[index[0],:]\n",
        "            ch_new_2 = pop_old[index[1],:]\n",
        "    \n",
        "        for i in range(len(ch_new_1)):\n",
        "            if (np.random.uniform(size=1)[0]<pm):\n",
        "                ch_new_1[i] = np.where(ch_new_1[i]==1,0,1)\n",
        "            \n",
        "        for i in range(len(ch_new_2)):\n",
        "            if (np.random.uniform(size=1)[0]<pm):\n",
        "                ch_new_2[i] = np.where(ch_new_2[i]==1,0,1)\n",
        "            \n",
        "        pop_new[2*iteration,:] = ch_new_1\n",
        "        pop_new[2*iteration + 1,:] = ch_new_2\n",
        "\n",
        "    return pop_new"
      ],
      "execution_count": null,
      "outputs": []
    },
    {
      "cell_type": "code",
      "metadata": {
        "id": "V9zNP3c0XfSi",
        "colab_type": "code",
        "colab": {
          "base_uri": "https://localhost:8080/",
          "height": 187
        },
        "outputId": "9f9a7b37-1a81-4d51-8203-f0204115372a"
      },
      "source": [
        "simple_ga_generation(pop=population, func=f)"
      ],
      "execution_count": null,
      "outputs": [
        {
          "output_type": "execute_result",
          "data": {
            "text/plain": [
              "array([[0., 0., 0., 1., 0., 1., 1., 0., 0., 1.],\n",
              "       [0., 0., 0., 1., 0., 1., 1., 0., 0., 1.],\n",
              "       [0., 0., 0., 1., 0., 1., 1., 0., 0., 1.],\n",
              "       [0., 0., 0., 1., 0., 1., 1., 0., 0., 1.],\n",
              "       [0., 0., 0., 1., 0., 1., 1., 0., 0., 1.],\n",
              "       [0., 0., 0., 1., 0., 1., 1., 0., 0., 1.],\n",
              "       [0., 0., 0., 1., 0., 1., 1., 0., 0., 1.],\n",
              "       [0., 0., 0., 1., 0., 1., 1., 0., 0., 1.],\n",
              "       [1., 0., 0., 1., 0., 1., 1., 0., 0., 1.],\n",
              "       [0., 0., 0., 1., 0., 1., 1., 0., 0., 1.]])"
            ]
          },
          "metadata": {
            "tags": []
          },
          "execution_count": 27
        }
      ]
    },
    {
      "cell_type": "code",
      "metadata": {
        "id": "G63rbnx5XfSl",
        "colab_type": "code",
        "colab": {}
      },
      "source": [
        "def simple_ga(pop, func, maximize= True, pc = 0.75, pm = 0.005, max_iter=100, delta=0.000001, eps=1e-5):\n",
        "    if maximize == maximize:\n",
        "        f = func\n",
        "    else:\n",
        "        f = 1/(func + eps)\n",
        "    \n",
        "    \n",
        "    f_old = np.array([f(bit_to_int(x)) for x in pop])\n",
        "    f_max_old = max(f_old)\n",
        "    print(f_max_old)\n",
        "    best_ch = pop[np.argmax(f_old),:]\n",
        "    \n",
        "    pop_old = pop\n",
        "    \n",
        "    for iterations in range(max_iter):\n",
        "        pop_new = simple_ga_generation(pop_old,func,maximize=maximize, pc=pc, pm=pm, eps=eps)\n",
        "        f_new = np.array([f(bit_to_int(x)) for x in pop_new])\n",
        "        f_max_new = max(f_new)\n",
        "#         print(f_max_new)\n",
        "        d = np.abs(f_max_new - f_max_old)\n",
        "#         print(d)\n",
        "        if (iterations>10)&(d < delta):\n",
        "            return {'Max_function_value': f_max_new, \n",
        "                    'Best_chromosome': pop_new[np.argmax(f_new),:], \n",
        "                    'No_of_iterations': iterations, \n",
        "                    'Param_value': bit_to_int(pop_new[np.argmax(f_new),:])}\n",
        "                    \n",
        "        if f_max_new > f_max_old:\n",
        "            f_max_old = f_max_new\n",
        "            best_ch = pop_new[np.argmax(f_new),:]\n",
        "        pop_old = pop_new.copy()\n",
        "        \n",
        "    print(\"The value didn't converge after {} iterations\".format(max_iter))\n",
        "    return [f_max_old, best_ch]                    "
      ],
      "execution_count": null,
      "outputs": []
    },
    {
      "cell_type": "code",
      "metadata": {
        "id": "8SqwP71pXfSo",
        "colab_type": "code",
        "colab": {
          "base_uri": "https://localhost:8080/",
          "height": 102
        },
        "outputId": "5ce53466-b95f-49e5-ae2f-7185bfd80b32"
      },
      "source": [
        "population1 = np.array(np.random.binomial(1,0.3,size=(50,10)))\n",
        "simple_ga(population1, f)"
      ],
      "execution_count": null,
      "outputs": [
        {
          "output_type": "stream",
          "text": [
            "0.07365402806066466\n"
          ],
          "name": "stdout"
        },
        {
          "output_type": "execute_result",
          "data": {
            "text/plain": [
              "{'Best_chromosome': array([0., 0., 0., 1., 1., 0., 0., 1., 0., 0.]),\n",
              " 'Max_function_value': 0.07978845608028654,\n",
              " 'No_of_iterations': 11,\n",
              " 'Param_value': 100.0}"
            ]
          },
          "metadata": {
            "tags": []
          },
          "execution_count": 29
        }
      ]
    },
    {
      "cell_type": "code",
      "metadata": {
        "id": "hTb77Zv-XfSr",
        "colab_type": "code",
        "colab": {
          "base_uri": "https://localhost:8080/",
          "height": 34
        },
        "outputId": "4d47ffb9-4615-4f60-9e6b-38158240613e"
      },
      "source": [
        "2**6"
      ],
      "execution_count": null,
      "outputs": [
        {
          "output_type": "execute_result",
          "data": {
            "text/plain": [
              "64"
            ]
          },
          "metadata": {
            "tags": []
          },
          "execution_count": 14
        }
      ]
    }
  ]
}